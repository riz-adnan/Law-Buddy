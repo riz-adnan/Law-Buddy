{
 "cells": [
  {
   "cell_type": "code",
   "execution_count": 1,
   "id": "c6fe845c",
   "metadata": {},
   "outputs": [
    {
     "name": "stdout",
     "output_type": "stream",
     "text": [
      "Defaulting to user installation because normal site-packages is not writeable\n",
      "Collecting sentence-transformers\n",
      "  Using cached sentence-transformers-2.2.2.tar.gz (85 kB)\n",
      "  Preparing metadata (setup.py): started\n",
      "  Preparing metadata (setup.py): finished with status 'done'\n",
      "Requirement already satisfied: transformers<5.0.0,>=4.6.0 in c:\\programdata\\anaconda3\\lib\\site-packages (from sentence-transformers) (4.24.0)\n",
      "Requirement already satisfied: tqdm in c:\\programdata\\anaconda3\\lib\\site-packages (from sentence-transformers) (4.64.1)\n",
      "Requirement already satisfied: torch>=1.6.0 in c:\\programdata\\anaconda3\\lib\\site-packages (from sentence-transformers) (1.12.1)\n",
      "Collecting torchvision\n",
      "  Using cached torchvision-0.16.2-cp310-cp310-win_amd64.whl (1.1 MB)\n",
      "Requirement already satisfied: numpy in c:\\programdata\\anaconda3\\lib\\site-packages (from sentence-transformers) (1.23.5)\n",
      "Requirement already satisfied: scikit-learn in c:\\programdata\\anaconda3\\lib\\site-packages (from sentence-transformers) (1.2.1)\n",
      "Requirement already satisfied: scipy in c:\\programdata\\anaconda3\\lib\\site-packages (from sentence-transformers) (1.10.0)\n",
      "Requirement already satisfied: nltk in c:\\programdata\\anaconda3\\lib\\site-packages (from sentence-transformers) (3.7)\n",
      "Collecting sentencepiece\n",
      "  Using cached sentencepiece-0.1.99-cp310-cp310-win_amd64.whl (977 kB)\n",
      "Requirement already satisfied: huggingface-hub>=0.4.0 in c:\\programdata\\anaconda3\\lib\\site-packages (from sentence-transformers) (0.10.1)\n",
      "Requirement already satisfied: typing-extensions>=3.7.4.3 in c:\\programdata\\anaconda3\\lib\\site-packages (from huggingface-hub>=0.4.0->sentence-transformers) (4.4.0)\n",
      "Requirement already satisfied: packaging>=20.9 in c:\\programdata\\anaconda3\\lib\\site-packages (from huggingface-hub>=0.4.0->sentence-transformers) (22.0)\n",
      "Requirement already satisfied: requests in c:\\users\\acer\\appdata\\roaming\\python\\python310\\site-packages (from huggingface-hub>=0.4.0->sentence-transformers) (2.31.0)\n",
      "Requirement already satisfied: filelock in c:\\programdata\\anaconda3\\lib\\site-packages (from huggingface-hub>=0.4.0->sentence-transformers) (3.9.0)\n",
      "Requirement already satisfied: pyyaml>=5.1 in c:\\programdata\\anaconda3\\lib\\site-packages (from huggingface-hub>=0.4.0->sentence-transformers) (6.0)\n",
      "Requirement already satisfied: tokenizers!=0.11.3,<0.14,>=0.11.1 in c:\\programdata\\anaconda3\\lib\\site-packages (from transformers<5.0.0,>=4.6.0->sentence-transformers) (0.11.4)\n",
      "Requirement already satisfied: regex!=2019.12.17 in c:\\programdata\\anaconda3\\lib\\site-packages (from transformers<5.0.0,>=4.6.0->sentence-transformers) (2022.7.9)\n",
      "Requirement already satisfied: colorama in c:\\programdata\\anaconda3\\lib\\site-packages (from tqdm->sentence-transformers) (0.4.6)\n",
      "Requirement already satisfied: click in c:\\programdata\\anaconda3\\lib\\site-packages (from nltk->sentence-transformers) (8.0.4)\n",
      "Requirement already satisfied: joblib in c:\\programdata\\anaconda3\\lib\\site-packages (from nltk->sentence-transformers) (1.1.1)\n",
      "Requirement already satisfied: threadpoolctl>=2.0.0 in c:\\programdata\\anaconda3\\lib\\site-packages (from scikit-learn->sentence-transformers) (2.2.0)\n",
      "Requirement already satisfied: pillow!=8.3.*,>=5.3.0 in c:\\programdata\\anaconda3\\lib\\site-packages (from torchvision->sentence-transformers) (9.4.0)\n",
      "Collecting torch>=1.6.0\n",
      "  Downloading torch-2.1.2-cp310-cp310-win_amd64.whl (192.3 MB)\n",
      "     ------------------------------------ 192.3/192.3 MB 325.3 kB/s eta 0:00:00\n",
      "Requirement already satisfied: jinja2 in c:\\programdata\\anaconda3\\lib\\site-packages (from torch>=1.6.0->sentence-transformers) (3.1.2)\n",
      "Requirement already satisfied: networkx in c:\\programdata\\anaconda3\\lib\\site-packages (from torch>=1.6.0->sentence-transformers) (2.8.4)\n",
      "Requirement already satisfied: fsspec in c:\\programdata\\anaconda3\\lib\\site-packages (from torch>=1.6.0->sentence-transformers) (2022.11.0)\n",
      "Requirement already satisfied: sympy in c:\\programdata\\anaconda3\\lib\\site-packages (from torch>=1.6.0->sentence-transformers) (1.11.1)\n",
      "Requirement already satisfied: MarkupSafe>=2.0 in c:\\programdata\\anaconda3\\lib\\site-packages (from jinja2->torch>=1.6.0->sentence-transformers) (2.1.1)\n",
      "Requirement already satisfied: urllib3<3,>=1.21.1 in c:\\programdata\\anaconda3\\lib\\site-packages (from requests->huggingface-hub>=0.4.0->sentence-transformers) (1.26.14)\n",
      "Requirement already satisfied: idna<4,>=2.5 in c:\\programdata\\anaconda3\\lib\\site-packages (from requests->huggingface-hub>=0.4.0->sentence-transformers) (3.4)\n",
      "Requirement already satisfied: certifi>=2017.4.17 in c:\\programdata\\anaconda3\\lib\\site-packages (from requests->huggingface-hub>=0.4.0->sentence-transformers) (2023.11.17)\n",
      "Requirement already satisfied: charset-normalizer<4,>=2 in c:\\programdata\\anaconda3\\lib\\site-packages (from requests->huggingface-hub>=0.4.0->sentence-transformers) (2.0.4)\n",
      "Requirement already satisfied: mpmath>=0.19 in c:\\programdata\\anaconda3\\lib\\site-packages (from sympy->torch>=1.6.0->sentence-transformers) (1.2.1)\n",
      "Building wheels for collected packages: sentence-transformers\n",
      "  Building wheel for sentence-transformers (setup.py): started\n",
      "  Building wheel for sentence-transformers (setup.py): finished with status 'done'\n",
      "  Created wheel for sentence-transformers: filename=sentence_transformers-2.2.2-py3-none-any.whl size=125960 sha256=10c34eede1c47d702f5a31630234afea129c5e69dc70b8f419ff491e96d9b10d\n",
      "  Stored in directory: c:\\users\\acer\\appdata\\local\\pip\\cache\\wheels\\0a\\f5\\dd\\9d00836c4e9e279c2a59d5b0ab72dafa66cbc626a327c550dd\n",
      "Successfully built sentence-transformers\n",
      "Installing collected packages: sentencepiece, torch, torchvision, sentence-transformers\n",
      "Successfully installed sentence-transformers-2.2.2 sentencepiece-0.1.99 torch-2.1.2 torchvision-0.16.2\n"
     ]
    },
    {
     "name": "stderr",
     "output_type": "stream",
     "text": [
      "  WARNING: The scripts convert-caffe2-to-onnx.exe, convert-onnx-to-caffe2.exe and torchrun.exe are installed in 'C:\\Users\\Acer\\AppData\\Roaming\\Python\\Python310\\Scripts' which is not on PATH.\n",
      "  Consider adding this directory to PATH or, if you prefer to suppress this warning, use --no-warn-script-location.\n"
     ]
    }
   ],
   "source": [
    "!pip install -U sentence-transformers"
   ]
  },
  {
   "cell_type": "code",
   "execution_count": 1,
   "id": "963a3c7d",
   "metadata": {},
   "outputs": [],
   "source": [
    "from sentence_transformers import SentenceTransformer,util\n"
   ]
  },
  {
   "cell_type": "code",
   "execution_count": 2,
   "id": "5048e3a5",
   "metadata": {},
   "outputs": [],
   "source": [
    "model = SentenceTransformer('sentence-transformers/all-MiniLM-L6-v2')"
   ]
  },
  {
   "cell_type": "code",
   "execution_count": 3,
   "id": "373a0f4b",
   "metadata": {},
   "outputs": [],
   "source": [
    "sentences = [\"This is an example sentence\", \"Each sentence is converted\"]\n",
    "embeddings=model.encode(sentences)\n"
   ]
  },
  {
   "cell_type": "code",
   "execution_count": 4,
   "id": "4270a222",
   "metadata": {},
   "outputs": [
    {
     "data": {
      "text/plain": [
       "array([[ 6.76569343e-02,  6.34959191e-02,  4.87131029e-02,\n",
       "         7.93049708e-02,  3.74480933e-02,  2.65279063e-03,\n",
       "         3.93748991e-02, -7.09847081e-03,  5.93614317e-02,\n",
       "         3.15369926e-02,  6.00980632e-02, -5.29051796e-02,\n",
       "         4.06067669e-02, -2.59308238e-02,  2.98428014e-02,\n",
       "         1.12689403e-03,  7.35149384e-02, -5.03818244e-02,\n",
       "        -1.22386590e-01,  2.37028413e-02,  2.97265556e-02,\n",
       "         4.24768403e-02,  2.56337691e-02,  1.99516560e-03,\n",
       "        -5.69191240e-02, -2.71597859e-02, -3.29035744e-02,\n",
       "         6.60249218e-02,  1.19007125e-01, -4.58791703e-02,\n",
       "        -7.26214424e-02, -3.25840488e-02,  5.23413569e-02,\n",
       "         4.50552665e-02,  8.25305097e-03,  3.67023535e-02,\n",
       "        -1.39416121e-02,  6.53919131e-02, -2.64272168e-02,\n",
       "         2.06383251e-04, -1.36643983e-02, -3.62810455e-02,\n",
       "        -1.95044130e-02, -2.89737880e-02,  3.94270830e-02,\n",
       "        -8.84090886e-02,  2.62426096e-03,  1.36713833e-02,\n",
       "         4.83063310e-02, -3.11565530e-02, -1.17329188e-01,\n",
       "        -5.11690564e-02, -8.85287821e-02, -2.18963157e-02,\n",
       "         1.42986523e-02,  4.44168113e-02, -1.34815574e-02,\n",
       "         7.43392333e-02,  2.66383141e-02, -1.98762678e-02,\n",
       "         1.79191083e-02, -1.06052011e-02, -9.04262736e-02,\n",
       "         2.13269070e-02,  1.41204849e-01, -6.47172146e-03,\n",
       "        -1.40379509e-03, -1.53609170e-02, -8.73571411e-02,\n",
       "         7.22173676e-02,  2.01402567e-02,  4.25587632e-02,\n",
       "        -3.49013694e-02,  3.19510727e-04, -8.02970976e-02,\n",
       "        -3.27472165e-02,  2.85268240e-02, -5.13657965e-02,\n",
       "         1.09389178e-01,  8.19328353e-02, -9.84040052e-02,\n",
       "        -9.34095979e-02, -1.51292197e-02,  4.51248921e-02,\n",
       "         4.94171791e-02, -2.51867939e-02,  1.57077722e-02,\n",
       "        -1.29290715e-01,  5.31893084e-03,  4.02343553e-03,\n",
       "        -2.34571919e-02, -6.72982931e-02,  2.92280130e-02,\n",
       "        -2.60845143e-02,  1.30624808e-02, -3.11663505e-02,\n",
       "        -4.82713580e-02, -5.58859184e-02, -3.87505218e-02,\n",
       "         1.20010890e-01, -1.03924545e-02,  4.89705354e-02,\n",
       "         5.53537235e-02,  4.49358188e-02, -4.00976883e-03,\n",
       "        -1.02959789e-01, -2.92968750e-02, -5.83402738e-02,\n",
       "         2.70472411e-02, -2.20169313e-02, -7.22241327e-02,\n",
       "        -4.13869619e-02, -1.93297770e-02,  2.73329136e-03,\n",
       "         2.76964711e-04, -9.67588574e-02, -1.00574657e-01,\n",
       "        -1.41922673e-02, -8.07892159e-02,  4.53925282e-02,\n",
       "         2.45041437e-02,  5.97613752e-02, -7.38184750e-02,\n",
       "         1.19843641e-02, -6.63403571e-02, -7.69045353e-02,\n",
       "         3.85157205e-02, -5.59362073e-33,  2.80013606e-02,\n",
       "        -5.60784861e-02, -4.86601628e-02,  2.15569884e-02,\n",
       "         6.01980500e-02, -4.81403135e-02, -3.50247100e-02,\n",
       "         1.93313789e-02, -1.75151378e-02, -3.89210545e-02,\n",
       "        -3.81062180e-03, -1.70287546e-02,  2.82099750e-02,\n",
       "         1.28290560e-02,  4.71600965e-02,  6.21030368e-02,\n",
       "        -6.43589050e-02,  1.29285648e-01, -1.31231295e-02,\n",
       "         5.23069911e-02, -3.73680890e-02,  2.89093927e-02,\n",
       "        -1.68981273e-02, -2.37330254e-02, -3.33491415e-02,\n",
       "        -5.16762659e-02,  1.55356536e-02,  2.08802652e-02,\n",
       "        -1.25371413e-02,  4.59578633e-02,  3.72720174e-02,\n",
       "         2.80567259e-02, -5.90004735e-02, -1.16988318e-02,\n",
       "         4.92182635e-02,  4.70328964e-02,  7.35487565e-02,\n",
       "        -3.70530002e-02,  3.98458866e-03,  1.06412042e-02,\n",
       "        -1.61481119e-04, -5.27166054e-02,  2.75927782e-02,\n",
       "        -3.92921418e-02,  8.44717473e-02,  4.86861020e-02,\n",
       "        -4.85870754e-03,  1.79948565e-02, -4.28569093e-02,\n",
       "         1.23375468e-02,  6.39951276e-03,  4.04823124e-02,\n",
       "         1.48886451e-02, -1.53941484e-02,  7.62947798e-02,\n",
       "         2.37043891e-02,  4.45237122e-02,  5.08195609e-02,\n",
       "        -2.31258594e-03, -1.88736748e-02, -1.23335980e-02,\n",
       "         4.66001704e-02, -5.63437678e-02,  6.29927143e-02,\n",
       "        -3.15535292e-02,  3.24911736e-02,  2.34673172e-02,\n",
       "        -6.55438378e-02,  2.01709326e-02,  2.57082190e-02,\n",
       "        -1.23869013e-02, -8.36494192e-03, -6.64377362e-02,\n",
       "         9.43073556e-02, -3.57093401e-02, -3.42483222e-02,\n",
       "        -6.66355575e-03, -8.01524706e-03, -3.09711099e-02,\n",
       "         4.33012247e-02, -8.21398664e-03, -1.50795057e-01,\n",
       "         3.07691842e-02,  4.00719307e-02, -3.79293077e-02,\n",
       "         1.93215837e-03,  4.00530845e-02, -8.77075046e-02,\n",
       "        -3.68491039e-02,  8.57959315e-03, -3.19251791e-02,\n",
       "        -1.25257755e-02,  7.35540241e-02,  1.34737394e-03,\n",
       "         2.05919053e-02,  2.71098128e-33, -5.18576317e-02,\n",
       "         5.78360893e-02, -9.18985307e-02,  3.94421667e-02,\n",
       "         1.05576485e-01, -1.96912177e-02,  6.18402213e-02,\n",
       "        -7.63465464e-02,  2.40880642e-02,  9.40048993e-02,\n",
       "        -1.16535448e-01,  3.71198654e-02,  5.22425249e-02,\n",
       "        -3.95855214e-03,  5.72214648e-02,  5.32852486e-03,\n",
       "         1.24016896e-01,  1.39022563e-02, -1.10249976e-02,\n",
       "         3.56053151e-02, -3.30754668e-02,  8.16574469e-02,\n",
       "        -1.52003514e-02,  6.05585389e-02, -6.01397641e-02,\n",
       "         3.26102749e-02, -3.48296389e-02, -1.69881843e-02,\n",
       "        -9.74907428e-02, -2.71483567e-02,  1.74709631e-03,\n",
       "        -7.68982619e-02, -4.31858711e-02, -1.89985279e-02,\n",
       "        -2.91661192e-02,  5.77488318e-02,  2.41821446e-02,\n",
       "        -1.16902171e-02, -6.21435642e-02,  2.84351390e-02,\n",
       "        -2.37505752e-04, -2.51783468e-02,  4.39640274e-03,\n",
       "         8.12840164e-02,  3.64184082e-02, -6.04006238e-02,\n",
       "        -3.65517512e-02, -7.93748721e-02, -5.08525223e-03,\n",
       "         6.69699162e-02, -1.17784359e-01,  3.23743895e-02,\n",
       "        -4.71252315e-02, -1.34459790e-02, -9.48444828e-02,\n",
       "         8.24953429e-03, -1.06748287e-02, -6.81881234e-02,\n",
       "         1.11818756e-03,  2.48020254e-02, -6.35888949e-02,\n",
       "         2.84493025e-02, -2.61303596e-02,  8.58111829e-02,\n",
       "         1.14682287e-01, -5.35345785e-02, -5.63588664e-02,\n",
       "         4.26009819e-02,  1.09454682e-02,  2.09579393e-02,\n",
       "         1.00131102e-01,  3.26051600e-02, -1.84208795e-01,\n",
       "        -3.93208563e-02, -6.91455007e-02, -6.38104826e-02,\n",
       "        -6.56385571e-02, -6.41252100e-03, -4.79612611e-02,\n",
       "        -7.68133029e-02,  2.95384545e-02, -2.29947791e-02,\n",
       "         4.17036898e-02, -2.50047706e-02, -4.54508374e-03,\n",
       "        -4.17136364e-02, -1.32289901e-02, -6.38357699e-02,\n",
       "        -2.46474287e-03, -1.37337828e-02,  1.68976560e-02,\n",
       "        -6.30398244e-02,  8.98880884e-02,  4.18170951e-02,\n",
       "        -1.85687635e-02, -1.80442203e-08, -1.67998429e-02,\n",
       "        -3.21578011e-02,  6.30384162e-02, -4.13091592e-02,\n",
       "         4.44819070e-02,  2.02471740e-03,  6.29592463e-02,\n",
       "        -5.17368130e-03, -1.00444779e-02, -3.05639897e-02,\n",
       "         3.52672637e-02,  5.58581315e-02, -4.67124730e-02,\n",
       "         3.45102996e-02,  3.29578817e-02,  4.30114456e-02,\n",
       "         2.94360761e-02, -3.03164814e-02, -1.71107836e-02,\n",
       "         7.37484396e-02, -5.47911003e-02,  2.77515557e-02,\n",
       "         6.20165933e-03,  1.58800371e-02,  3.42978761e-02,\n",
       "        -5.15748141e-03,  2.35079769e-02,  7.53135532e-02,\n",
       "         1.92842968e-02,  3.36197093e-02,  5.09103760e-02,\n",
       "         1.52497053e-01,  1.64207928e-02,  2.70527937e-02,\n",
       "         3.75162698e-02,  2.18553133e-02,  5.66333085e-02,\n",
       "        -3.95747013e-02,  7.12313578e-02, -5.41377030e-02,\n",
       "         1.03768753e-03,  2.11853050e-02, -3.56308930e-02,\n",
       "         1.09016925e-01,  2.76531302e-03,  3.13997567e-02,\n",
       "         1.38424151e-03, -3.45738642e-02, -4.59277481e-02,\n",
       "         2.88083553e-02,  7.16905389e-03,  4.84684892e-02,\n",
       "         2.61018444e-02, -9.44072008e-03,  2.82169562e-02,\n",
       "         3.48724313e-02,  3.69098447e-02, -8.58948287e-03,\n",
       "        -3.53205390e-02, -2.47856807e-02, -1.91920958e-02,\n",
       "         3.80707607e-02,  5.99653088e-02, -4.22287285e-02],\n",
       "       [ 8.64386037e-02,  1.02762632e-01,  5.39456075e-03,\n",
       "         2.04443466e-03, -9.96339321e-03,  2.53855549e-02,\n",
       "         4.92875502e-02, -3.06265671e-02,  6.87254816e-02,\n",
       "         1.01365885e-02,  7.75397792e-02, -9.00807828e-02,\n",
       "         6.10618899e-03, -5.69898747e-02,  1.41714783e-02,\n",
       "         2.80491654e-02, -8.68464932e-02,  7.64398575e-02,\n",
       "        -1.03491329e-01, -6.77437782e-02,  6.99947253e-02,\n",
       "         8.44250768e-02, -7.24913832e-03,  1.04770446e-02,\n",
       "         1.34020811e-02,  6.77577034e-02, -9.42085832e-02,\n",
       "        -3.71689908e-02,  5.22617809e-02, -3.10853105e-02,\n",
       "        -9.63406935e-02,  1.57717019e-02,  2.57866960e-02,\n",
       "         7.85245076e-02,  7.89949074e-02,  1.91516392e-02,\n",
       "         1.64356381e-02,  3.10085551e-03,  3.81311402e-02,\n",
       "         2.37090793e-02,  1.05389599e-02, -4.40645330e-02,\n",
       "         4.41738777e-02, -2.58728061e-02,  6.15378581e-02,\n",
       "        -4.05427516e-02, -8.64139795e-02,  3.19722369e-02,\n",
       "        -8.90665804e-04, -2.44437288e-02, -9.19721127e-02,\n",
       "         2.33939663e-02, -8.30293447e-02,  4.41510603e-02,\n",
       "        -2.49692574e-02,  6.23019971e-02, -1.30353787e-03,\n",
       "         7.51395151e-02,  2.46384442e-02, -6.47244602e-02,\n",
       "        -1.17727764e-01,  3.83392088e-02, -9.11767259e-02,\n",
       "         6.35445863e-02,  7.62739554e-02, -8.80241394e-02,\n",
       "         9.54557396e-03, -4.69717607e-02, -8.41741264e-02,\n",
       "         3.88823561e-02, -1.14393540e-01,  6.28857221e-03,\n",
       "        -3.49361598e-02,  2.39750538e-02, -3.31317037e-02,\n",
       "        -1.57243852e-02, -3.78955267e-02, -8.81248433e-03,\n",
       "         7.06119090e-02,  3.28066312e-02,  2.03668606e-03,\n",
       "        -1.12279013e-01,  6.79720752e-03,  1.22765517e-02,\n",
       "         3.35303321e-02, -1.36200534e-02, -2.25490034e-02,\n",
       "        -2.25228760e-02, -2.03195177e-02,  5.04297875e-02,\n",
       "        -7.48652667e-02, -8.22822303e-02,  7.65962675e-02,\n",
       "         4.93392013e-02, -3.75552922e-02,  1.44634591e-02,\n",
       "        -5.72457835e-02, -1.79953929e-02,  1.09697923e-01,\n",
       "         1.19462773e-01,  8.09222169e-04,  6.17057569e-02,\n",
       "         3.26322243e-02, -1.30780101e-01, -1.48636654e-01,\n",
       "        -6.16232827e-02,  4.33886349e-02,  2.67129298e-02,\n",
       "         1.39786163e-02, -3.94002572e-02, -2.52711792e-02,\n",
       "         3.87741672e-03,  3.58664580e-02, -6.15420043e-02,\n",
       "         3.76660265e-02,  2.67565344e-02, -3.82658914e-02,\n",
       "        -3.54793333e-02, -2.39227321e-02,  8.67976919e-02,\n",
       "        -1.84063129e-02,  7.71039501e-02,  1.39864208e-03,\n",
       "         7.00383037e-02, -4.77877557e-02, -7.89820030e-02,\n",
       "         5.10814637e-02, -2.99868297e-33, -3.91646288e-02,\n",
       "        -2.56212987e-03,  1.65210664e-02,  9.48936865e-03,\n",
       "        -5.66219613e-02,  6.57783374e-02, -4.77002971e-02,\n",
       "         1.11662364e-02, -5.73558435e-02, -9.16255359e-03,\n",
       "        -2.17521470e-02, -5.59531748e-02, -1.11422790e-02,\n",
       "         9.32793170e-02,  1.66764949e-02, -1.36723341e-02,\n",
       "         4.34388742e-02,  1.87241915e-03,  7.29948143e-03,\n",
       "         5.16331717e-02,  4.80608568e-02,  1.35341436e-01,\n",
       "        -1.71738937e-02, -1.29698431e-02, -7.50109926e-02,\n",
       "         2.61107627e-02,  2.69802436e-02,  7.83050666e-04,\n",
       "        -4.87270020e-02,  1.17842760e-02, -4.59580533e-02,\n",
       "        -4.83213812e-02, -1.95671134e-02,  1.93889476e-02,\n",
       "         1.98807269e-02,  1.67432353e-02,  9.87801328e-02,\n",
       "        -2.74087917e-02,  2.34809183e-02,  3.70225520e-03,\n",
       "        -6.14514798e-02, -1.21227349e-03, -9.50471871e-03,\n",
       "         9.25153214e-03,  2.38443986e-02,  8.61231759e-02,\n",
       "         2.26789843e-02,  5.45141869e-04,  3.47129777e-02,\n",
       "         6.25465112e-03, -6.92776544e-03,  3.92400660e-02,\n",
       "         1.15674874e-02,  3.26279998e-02,  6.22155517e-02,\n",
       "         2.76114419e-02,  1.86883472e-02,  3.55806202e-02,\n",
       "         4.11795303e-02,  1.54781835e-02,  4.22691219e-02,\n",
       "         3.82248387e-02,  1.00313528e-02, -2.83245854e-02,\n",
       "         4.47052643e-02, -4.10458371e-02, -4.50548576e-03,\n",
       "        -5.44733927e-02,  2.62320973e-02,  1.79862268e-02,\n",
       "        -1.23118751e-01, -4.66952138e-02, -1.35913175e-02,\n",
       "         6.46710694e-02,  3.57349170e-03, -1.22234346e-02,\n",
       "        -1.79382246e-02, -2.55502407e-02,  2.37224326e-02,\n",
       "         4.08669747e-03, -6.51475936e-02,  4.43651490e-02,\n",
       "         4.68595847e-02, -3.25174443e-02,  4.02270164e-03,\n",
       "        -3.97599582e-03,  1.11939786e-02, -9.95597839e-02,\n",
       "         3.33168581e-02,  8.01060572e-02,  9.42692310e-02,\n",
       "        -6.38294145e-02,  3.23151797e-02, -5.13553582e-02,\n",
       "        -7.49879330e-03,  5.30048816e-34, -4.13194932e-02,\n",
       "         9.49646756e-02, -1.06401406e-01,  4.96590585e-02,\n",
       "        -3.41912769e-02, -3.16745937e-02, -1.71555802e-02,\n",
       "         1.70099910e-03,  5.79757951e-02, -1.21777353e-03,\n",
       "        -1.68536138e-02, -5.16912714e-02,  5.52998297e-02,\n",
       "        -3.42647657e-02,  3.08179446e-02, -3.10480949e-02,\n",
       "         9.27532241e-02,  3.72663662e-02, -2.37398036e-02,\n",
       "         4.45893817e-02,  1.46153234e-02,  1.16239339e-01,\n",
       "        -5.00112586e-02,  3.88716608e-02,  4.24743351e-03,\n",
       "         2.56976653e-02,  3.27244103e-02,  4.29907665e-02,\n",
       "        -1.36144580e-02,  2.56122574e-02,  1.06262555e-02,\n",
       "        -8.46863762e-02, -9.52982455e-02,  1.08399875e-01,\n",
       "        -7.51600266e-02, -1.37774004e-02,  6.37338310e-02,\n",
       "        -4.49672667e-03, -3.25321928e-02,  6.23614080e-02,\n",
       "         3.48053388e-02, -3.54922563e-02, -2.00222414e-02,\n",
       "         3.66608463e-02, -2.48837061e-02,  1.01818591e-02,\n",
       "        -7.01233149e-02, -4.31950949e-02,  2.95332391e-02,\n",
       "        -2.94931320e-04, -3.45386602e-02,  1.46675725e-02,\n",
       "        -9.83970240e-02, -4.70487811e-02, -8.85493588e-03,\n",
       "        -8.89914185e-02,  3.50996107e-02, -1.29601955e-01,\n",
       "        -4.98866104e-02, -6.12047724e-02, -5.97797707e-02,\n",
       "         9.46320314e-03,  4.91218045e-02, -7.75026679e-02,\n",
       "         8.09727013e-02, -4.79257293e-02,  2.34376732e-03,\n",
       "         7.57031888e-02, -2.40175724e-02, -1.52546242e-02,\n",
       "         4.86738458e-02, -3.85968462e-02, -7.04831704e-02,\n",
       "        -1.20348362e-02, -3.88790928e-02, -7.76016936e-02,\n",
       "        -1.07243853e-02,  1.04188416e-02, -2.13753283e-02,\n",
       "        -9.17386264e-02, -1.11344848e-02, -2.96066068e-02,\n",
       "         2.46458221e-02,  4.65711765e-03, -1.63449738e-02,\n",
       "        -3.95219736e-02,  7.73373693e-02, -2.84732692e-02,\n",
       "        -3.69939604e-03,  8.27665254e-02, -1.10408980e-02,\n",
       "         3.13983522e-02,  5.35094216e-02,  5.75145856e-02,\n",
       "        -3.17622349e-02, -1.52911266e-08, -7.99661279e-02,\n",
       "        -4.76797074e-02, -8.59788731e-02,  5.69616221e-02,\n",
       "        -4.08866405e-02,  2.23832596e-02, -4.64447308e-03,\n",
       "        -3.80130969e-02, -3.10671255e-02, -1.07277595e-02,\n",
       "         1.97698623e-02,  7.76999444e-03, -6.09474303e-03,\n",
       "        -3.86376306e-02,  2.80272160e-02,  6.78137913e-02,\n",
       "        -2.35351436e-02,  3.21747400e-02,  8.02536961e-03,\n",
       "        -2.39106938e-02, -1.21996820e-03,  3.14599089e-02,\n",
       "        -5.24924099e-02, -8.06813408e-03,  3.14771221e-03,\n",
       "         5.11496626e-02, -4.44104634e-02,  6.36013597e-02,\n",
       "         3.85083966e-02,  3.30432951e-02, -4.18723421e-03,\n",
       "         4.95592915e-02, -5.69605269e-02, -6.49712747e-03,\n",
       "        -2.49792896e-02, -1.60867218e-02,  6.62289411e-02,\n",
       "        -2.06310488e-02,  1.08045764e-01,  1.68547146e-02,\n",
       "         1.43812727e-02, -1.32127441e-02, -1.29387394e-01,\n",
       "         6.95216432e-02, -5.55772968e-02, -6.75413162e-02,\n",
       "        -5.45821246e-03, -6.13593031e-03,  3.90840769e-02,\n",
       "        -6.28779680e-02,  3.74063291e-02, -1.16570871e-02,\n",
       "         1.29150245e-02, -5.52495308e-02,  5.16075678e-02,\n",
       "        -4.30838531e-03,  5.80247529e-02,  1.86944734e-02,\n",
       "         2.27810312e-02,  3.21665592e-02,  5.37978970e-02,\n",
       "         7.02848807e-02,  7.49312192e-02, -8.41775090e-02]], dtype=float32)"
      ]
     },
     "execution_count": 4,
     "metadata": {},
     "output_type": "execute_result"
    }
   ],
   "source": [
    "embeddings"
   ]
  },
  {
   "cell_type": "code",
   "execution_count": 23,
   "id": "15b998ba",
   "metadata": {},
   "outputs": [],
   "source": [
    "emb1=model.encode(\"Adnan is a very great guy\")\n",
    "emb2=model.encode(\"Adnan is a great guy\")"
   ]
  },
  {
   "cell_type": "code",
   "execution_count": 24,
   "id": "9ec8e9b2",
   "metadata": {},
   "outputs": [],
   "source": [
    "cos_sim=util.cos_sim(emb1,emb2)"
   ]
  },
  {
   "cell_type": "code",
   "execution_count": 25,
   "id": "cac6f901",
   "metadata": {},
   "outputs": [
    {
     "data": {
      "text/plain": [
       "tensor([[0.9925]])"
      ]
     },
     "execution_count": 25,
     "metadata": {},
     "output_type": "execute_result"
    }
   ],
   "source": [
    "cos_sim"
   ]
  },
  {
   "cell_type": "code",
   "execution_count": 5,
   "id": "577bdf45",
   "metadata": {},
   "outputs": [],
   "source": [
    "import numpy as np\n",
    "import pandas as pd"
   ]
  },
  {
   "cell_type": "code",
   "execution_count": 6,
   "id": "34a7d48b",
   "metadata": {},
   "outputs": [],
   "source": [
    "df=pd.read_csv(\"ipc_sections.csv\")"
   ]
  },
  {
   "cell_type": "code",
   "execution_count": 7,
   "id": "4ac7c7ce",
   "metadata": {},
   "outputs": [
    {
     "data": {
      "text/html": [
       "<div>\n",
       "<style scoped>\n",
       "    .dataframe tbody tr th:only-of-type {\n",
       "        vertical-align: middle;\n",
       "    }\n",
       "\n",
       "    .dataframe tbody tr th {\n",
       "        vertical-align: top;\n",
       "    }\n",
       "\n",
       "    .dataframe thead th {\n",
       "        text-align: right;\n",
       "    }\n",
       "</style>\n",
       "<table border=\"1\" class=\"dataframe\">\n",
       "  <thead>\n",
       "    <tr style=\"text-align: right;\">\n",
       "      <th></th>\n",
       "      <th>Description</th>\n",
       "      <th>Offense</th>\n",
       "      <th>Punishment</th>\n",
       "      <th>Section</th>\n",
       "    </tr>\n",
       "  </thead>\n",
       "  <tbody>\n",
       "    <tr>\n",
       "      <th>0</th>\n",
       "      <td>Description of IPC Section 140\\nAccording to s...</td>\n",
       "      <td>Wearing the dress or carrying any token used b...</td>\n",
       "      <td>3 Months or Fine or Both</td>\n",
       "      <td>IPC_140</td>\n",
       "    </tr>\n",
       "    <tr>\n",
       "      <th>1</th>\n",
       "      <td>Description of IPC Section 127\\nAccording to s...</td>\n",
       "      <td>Receiving property taken by war or depredation...</td>\n",
       "      <td>7 Years + Fine + forfeiture of property</td>\n",
       "      <td>IPC_127</td>\n",
       "    </tr>\n",
       "    <tr>\n",
       "      <th>2</th>\n",
       "      <td>Description of IPC Section 128\\nAccording to s...</td>\n",
       "      <td>Public servant voluntarily allowing prisoner o...</td>\n",
       "      <td>Imprisonment for Life or 10 Years + Fine</td>\n",
       "      <td>IPC_128</td>\n",
       "    </tr>\n",
       "    <tr>\n",
       "      <th>3</th>\n",
       "      <td>Description of IPC Section 129\\nAccording to s...</td>\n",
       "      <td>Public servant negligently suffering prisoner ...</td>\n",
       "      <td>Simple Imprisonment 3 Years + Fine</td>\n",
       "      <td>IPC_129</td>\n",
       "    </tr>\n",
       "    <tr>\n",
       "      <th>4</th>\n",
       "      <td>Description of IPC Section 130\\nAccording to s...</td>\n",
       "      <td>Aiding escape of, rescuing or harbouring, such...</td>\n",
       "      <td>Imprisonment for Life or 10 Years + Fine</td>\n",
       "      <td>IPC_130</td>\n",
       "    </tr>\n",
       "    <tr>\n",
       "      <th>...</th>\n",
       "      <td>...</td>\n",
       "      <td>...</td>\n",
       "      <td>...</td>\n",
       "      <td>...</td>\n",
       "    </tr>\n",
       "    <tr>\n",
       "      <th>439</th>\n",
       "      <td>Description of IPC Section 507\\nAccording to s...</td>\n",
       "      <td>Criminal intimidation by Anonymous communicati...</td>\n",
       "      <td>As in Section 506 + 2 Years</td>\n",
       "      <td>IPC_507</td>\n",
       "    </tr>\n",
       "    <tr>\n",
       "      <th>440</th>\n",
       "      <td>Description of IPC Section 508\\nAccording to s...</td>\n",
       "      <td>Act caused by inducing a person to believe tha...</td>\n",
       "      <td>1 Year or Fine or Both</td>\n",
       "      <td>IPC_508</td>\n",
       "    </tr>\n",
       "    <tr>\n",
       "      <th>441</th>\n",
       "      <td>Description of IPC Section 509\\nAccording to s...</td>\n",
       "      <td>Uttering any word or making any gesture intend...</td>\n",
       "      <td>Simple imprisonment for 3 years + Fine</td>\n",
       "      <td>IPC_509</td>\n",
       "    </tr>\n",
       "    <tr>\n",
       "      <th>442</th>\n",
       "      <td>Description of IPC Section 510\\nAccording to s...</td>\n",
       "      <td>Appearing in a public Place, etc., in a State ...</td>\n",
       "      <td>Simple Imprisonment for 24 hours or Fine or Both</td>\n",
       "      <td>IPC_510</td>\n",
       "    </tr>\n",
       "    <tr>\n",
       "      <th>443</th>\n",
       "      <td>Description of IPC Section 511\\nAccording to s...</td>\n",
       "      <td>Attempting to commit offences punishable with ...</td>\n",
       "      <td>Imprisonment for Life or Imprisonment not exce...</td>\n",
       "      <td>IPC_511</td>\n",
       "    </tr>\n",
       "  </tbody>\n",
       "</table>\n",
       "<p>444 rows × 4 columns</p>\n",
       "</div>"
      ],
      "text/plain": [
       "                                           Description  \\\n",
       "0    Description of IPC Section 140\\nAccording to s...   \n",
       "1    Description of IPC Section 127\\nAccording to s...   \n",
       "2    Description of IPC Section 128\\nAccording to s...   \n",
       "3    Description of IPC Section 129\\nAccording to s...   \n",
       "4    Description of IPC Section 130\\nAccording to s...   \n",
       "..                                                 ...   \n",
       "439  Description of IPC Section 507\\nAccording to s...   \n",
       "440  Description of IPC Section 508\\nAccording to s...   \n",
       "441  Description of IPC Section 509\\nAccording to s...   \n",
       "442  Description of IPC Section 510\\nAccording to s...   \n",
       "443  Description of IPC Section 511\\nAccording to s...   \n",
       "\n",
       "                                               Offense  \\\n",
       "0    Wearing the dress or carrying any token used b...   \n",
       "1    Receiving property taken by war or depredation...   \n",
       "2    Public servant voluntarily allowing prisoner o...   \n",
       "3    Public servant negligently suffering prisoner ...   \n",
       "4    Aiding escape of, rescuing or harbouring, such...   \n",
       "..                                                 ...   \n",
       "439  Criminal intimidation by Anonymous communicati...   \n",
       "440  Act caused by inducing a person to believe tha...   \n",
       "441  Uttering any word or making any gesture intend...   \n",
       "442  Appearing in a public Place, etc., in a State ...   \n",
       "443  Attempting to commit offences punishable with ...   \n",
       "\n",
       "                                            Punishment  Section  \n",
       "0                             3 Months or Fine or Both  IPC_140  \n",
       "1              7 Years + Fine + forfeiture of property  IPC_127  \n",
       "2             Imprisonment for Life or 10 Years + Fine  IPC_128  \n",
       "3                   Simple Imprisonment 3 Years + Fine  IPC_129  \n",
       "4             Imprisonment for Life or 10 Years + Fine  IPC_130  \n",
       "..                                                 ...      ...  \n",
       "439                        As in Section 506 + 2 Years  IPC_507  \n",
       "440                             1 Year or Fine or Both  IPC_508  \n",
       "441             Simple imprisonment for 3 years + Fine  IPC_509  \n",
       "442   Simple Imprisonment for 24 hours or Fine or Both  IPC_510  \n",
       "443  Imprisonment for Life or Imprisonment not exce...  IPC_511  \n",
       "\n",
       "[444 rows x 4 columns]"
      ]
     },
     "execution_count": 7,
     "metadata": {},
     "output_type": "execute_result"
    }
   ],
   "source": [
    "df"
   ]
  },
  {
   "cell_type": "code",
   "execution_count": 101,
   "id": "d82b57a5",
   "metadata": {},
   "outputs": [
    {
     "ename": "AttributeError",
     "evalue": "'Series' object has no attribute 'detach'",
     "output_type": "error",
     "traceback": [
      "\u001b[1;31m---------------------------------------------------------------------------\u001b[0m",
      "\u001b[1;31mAttributeError\u001b[0m                            Traceback (most recent call last)",
      "Cell \u001b[1;32mIn[101], line 1\u001b[0m\n\u001b[1;32m----> 1\u001b[0m ipc\u001b[38;5;241m=\u001b[39m[words \u001b[38;5;28;01mfor\u001b[39;00m words \u001b[38;5;129;01min\u001b[39;00m \u001b[43mdf\u001b[49m\u001b[43m[\u001b[49m\u001b[38;5;124;43m\"\u001b[39;49m\u001b[38;5;124;43mDescription\u001b[39;49m\u001b[38;5;124;43m\"\u001b[39;49m\u001b[43m]\u001b[49m\u001b[38;5;241;43m.\u001b[39;49m\u001b[43mdetach\u001b[49m()]\n",
      "File \u001b[1;32m~\\AppData\\Roaming\\Python\\Python310\\site-packages\\pandas\\core\\generic.py:6204\u001b[0m, in \u001b[0;36mNDFrame.__getattr__\u001b[1;34m(self, name)\u001b[0m\n\u001b[0;32m   6197\u001b[0m \u001b[38;5;28;01mif\u001b[39;00m (\n\u001b[0;32m   6198\u001b[0m     name \u001b[38;5;129;01mnot\u001b[39;00m \u001b[38;5;129;01min\u001b[39;00m \u001b[38;5;28mself\u001b[39m\u001b[38;5;241m.\u001b[39m_internal_names_set\n\u001b[0;32m   6199\u001b[0m     \u001b[38;5;129;01mand\u001b[39;00m name \u001b[38;5;129;01mnot\u001b[39;00m \u001b[38;5;129;01min\u001b[39;00m \u001b[38;5;28mself\u001b[39m\u001b[38;5;241m.\u001b[39m_metadata\n\u001b[0;32m   6200\u001b[0m     \u001b[38;5;129;01mand\u001b[39;00m name \u001b[38;5;129;01mnot\u001b[39;00m \u001b[38;5;129;01min\u001b[39;00m \u001b[38;5;28mself\u001b[39m\u001b[38;5;241m.\u001b[39m_accessors\n\u001b[0;32m   6201\u001b[0m     \u001b[38;5;129;01mand\u001b[39;00m \u001b[38;5;28mself\u001b[39m\u001b[38;5;241m.\u001b[39m_info_axis\u001b[38;5;241m.\u001b[39m_can_hold_identifiers_and_holds_name(name)\n\u001b[0;32m   6202\u001b[0m ):\n\u001b[0;32m   6203\u001b[0m     \u001b[38;5;28;01mreturn\u001b[39;00m \u001b[38;5;28mself\u001b[39m[name]\n\u001b[1;32m-> 6204\u001b[0m \u001b[38;5;28;01mreturn\u001b[39;00m \u001b[38;5;28;43mobject\u001b[39;49m\u001b[38;5;241;43m.\u001b[39;49m\u001b[38;5;21;43m__getattribute__\u001b[39;49m\u001b[43m(\u001b[49m\u001b[38;5;28;43mself\u001b[39;49m\u001b[43m,\u001b[49m\u001b[43m \u001b[49m\u001b[43mname\u001b[49m\u001b[43m)\u001b[49m\n",
      "\u001b[1;31mAttributeError\u001b[0m: 'Series' object has no attribute 'detach'"
     ]
    }
   ],
   "source": [
    "ipc=[words for words in df[\"Description\"].detach()]"
   ]
  },
  {
   "cell_type": "code",
   "execution_count": 97,
   "id": "c23540dc",
   "metadata": {},
   "outputs": [],
   "source": [
    "\n"
   ]
  },
  {
   "cell_type": "code",
   "execution_count": 98,
   "id": "5d96904e",
   "metadata": {},
   "outputs": [
    {
     "data": {
      "text/plain": [
       "'Description of IPC Section 140\\nAccording to section 140 of Indian penal code, Whoever, not being a soldier, sailor or airman in the Military, Naval or Air service of the Government of India, wears any garb or carries any token resembling any garb or token used by such a soldier, sailor or airman with the intention that it may be believed that he is such a soldier, sailor or airman, shall be punished with imprisonment of either description for a term which may extend to three months, or with fine which may extend to five hundred rupees, or with both.\\n\\n\\nIPC 140 in Simple Words\\nIf someone who is not a military member wears a uniform or carries something resembling a military uniform to deceive others into believing they are a soldier, sailor, or airman, they can be punished with up to three months in jail, a fine of up to five hundred rupees, or both.'"
      ]
     },
     "execution_count": 98,
     "metadata": {},
     "output_type": "execute_result"
    }
   ],
   "source": [
    "ipc[0]"
   ]
  },
  {
   "cell_type": "code",
   "execution_count": 99,
   "id": "14079a03",
   "metadata": {},
   "outputs": [
    {
     "name": "stdout",
     "output_type": "stream",
     "text": [
      "how many years for murder\n"
     ]
    }
   ],
   "source": [
    "question= input()"
   ]
  },
  {
   "cell_type": "code",
   "execution_count": 100,
   "id": "53b4d68a",
   "metadata": {},
   "outputs": [],
   "source": [
    "\n",
    "ansemb=model.encode(ipc)"
   ]
  },
  {
   "cell_type": "code",
   "execution_count": 92,
   "id": "edce3402",
   "metadata": {},
   "outputs": [],
   "source": [
    "qemb=model.encode(question)"
   ]
  },
  {
   "cell_type": "code",
   "execution_count": 91,
   "id": "a6c0a3db",
   "metadata": {},
   "outputs": [
    {
     "data": {
      "text/plain": [
       "'how many years for murder'"
      ]
     },
     "execution_count": 91,
     "metadata": {},
     "output_type": "execute_result"
    }
   ],
   "source": [
    "question"
   ]
  },
  {
   "cell_type": "code",
   "execution_count": 93,
   "id": "c8ce0ba9",
   "metadata": {},
   "outputs": [
    {
     "name": "stdout",
     "output_type": "stream",
     "text": [
      "[[{'corpus_id': 208, 'score': 0.5598210096359253}, {'corpus_id': 214, 'score': 0.5474836230278015}, {'corpus_id': 277, 'score': 0.517842173576355}, {'corpus_id': 323, 'score': 0.5061578750610352}, {'corpus_id': 322, 'score': 0.4988434612751007}, {'corpus_id': 209, 'score': 0.4982014298439026}, {'corpus_id': 213, 'score': 0.4846842288970947}, {'corpus_id': 321, 'score': 0.4777429699897766}, {'corpus_id': 318, 'score': 0.47164469957351685}, {'corpus_id': 222, 'score': 0.47102290391921997}]]\n"
     ]
    }
   ],
   "source": [
    "print(util.semantic_search(qemb,ansemb))"
   ]
  },
  {
   "cell_type": "code",
   "execution_count": 96,
   "id": "46deff2f",
   "metadata": {},
   "outputs": [
    {
     "data": {
      "text/plain": [
       "'Description of IPC Section 308\\nAccording to section 308 of Indian penal code, Whoever does any act with such intention or knowledge and under such circumstances that, if he by that act caused death, he would be guilty of culpable homicide not amounting to murder, shall be punished with imprisonment of either description for a term which may extend to three years, or with fine, or with both; and, if hurt is caused to any person by such act, shall be punished with imprisonment of either description for a term which may extend to seven years, or with fine, or with both.\\n\\n\\nIPC 308 in Simple Words\\nSection 308 of the Indian Penal Code states that if someone does an act with the intention or knowledge that, if it caused death, it would be considered culpable homicide not amounting to murder, they can be punished with imprisonment for up to three years, or a fine, or both; if the act causes hurt to any person, the punishment can be imprisonment for up to seven years, or a fine, or both.'"
      ]
     },
     "execution_count": 96,
     "metadata": {},
     "output_type": "execute_result"
    }
   ],
   "source": [
    "ipc[214]"
   ]
  },
  {
   "cell_type": "code",
   "execution_count": 19,
   "id": "4d6c42ff",
   "metadata": {},
   "outputs": [],
   "source": [
    "from transformers import pipeline"
   ]
  },
  {
   "cell_type": "code",
   "execution_count": 27,
   "id": "808ed3be",
   "metadata": {},
   "outputs": [
    {
     "data": {
      "text/plain": [
       "'Description of IPC Section 215\\nAccording to section 215 of Indian penal code, Whoever takes or agrees or consents to take any gratification under pretence or on account of helping any person to recover any movable property of which he shall have been deprived by any offence punishable under this Code, shall, unless he uses all means in his power to cause the offender to be apprehended and convicted of the offence, be punished with imprisonment of either description for a term which may extend to two years, or with fine, or with both.\\n\\n\\nIPC 215 in Simple Words\\nIn simple words, Section 215 of the Indian Penal Code states that if someone takes or agrees to take a bribe under the pretext of helping another person recover their stolen property, but fails to make any effort to apprehend and convict the offender, they can be punished with imprisonment up to two years, or fined, or both.'"
      ]
     },
     "execution_count": 27,
     "metadata": {},
     "output_type": "execute_result"
    }
   ],
   "source": [
    "ipc[114]"
   ]
  },
  {
   "cell_type": "code",
   "execution_count": 41,
   "id": "4ea463dc",
   "metadata": {},
   "outputs": [
    {
     "data": {
      "application/vnd.jupyter.widget-view+json": {
       "model_id": "c0dd63c0e5d94f7ba583911dd5423ff6",
       "version_major": 2,
       "version_minor": 0
      },
      "text/plain": [
       "Downloading:   0%|          | 0.00/879 [00:00<?, ?B/s]"
      ]
     },
     "metadata": {},
     "output_type": "display_data"
    },
    {
     "name": "stderr",
     "output_type": "stream",
     "text": [
      "C:\\ProgramData\\anaconda3\\lib\\site-packages\\huggingface_hub\\file_download.py:123: UserWarning: `huggingface_hub` cache-system uses symlinks by default to efficiently store duplicated files but your machine does not support them in C:\\Users\\Acer\\.cache\\huggingface\\hub. Caching files will still work but in a degraded version that might require more space on your disk. This warning can be disabled by setting the `HF_HUB_DISABLE_SYMLINKS_WARNING` environment variable. For more details, see https://huggingface.co/docs/huggingface_hub/how-to-cache#limitations.\n",
      "To support symlinks on Windows, you either need to activate Developer Mode or to run Python as an administrator. In order to see activate developer mode, see this article: https://docs.microsoft.com/en-us/windows/apps/get-started/enable-your-device-for-development\n",
      "  warnings.warn(message)\n"
     ]
    },
    {
     "data": {
      "application/vnd.jupyter.widget-view+json": {
       "model_id": "d68ea8871c874da89e3fa47a164699a1",
       "version_major": 2,
       "version_minor": 0
      },
      "text/plain": [
       "Downloading:   0%|          | 0.00/1.11G [00:00<?, ?B/s]"
      ]
     },
     "metadata": {},
     "output_type": "display_data"
    },
    {
     "data": {
      "application/vnd.jupyter.widget-view+json": {
       "model_id": "a03c801d1ddd40b5bcfcbb445530def8",
       "version_major": 2,
       "version_minor": 0
      },
      "text/plain": [
       "Downloading:   0%|          | 0.00/453 [00:00<?, ?B/s]"
      ]
     },
     "metadata": {},
     "output_type": "display_data"
    },
    {
     "data": {
      "application/vnd.jupyter.widget-view+json": {
       "model_id": "cb2b8bd305b649b5b7a12e4b0c2186c3",
       "version_major": 2,
       "version_minor": 0
      },
      "text/plain": [
       "Downloading:   0%|          | 0.00/16.3M [00:00<?, ?B/s]"
      ]
     },
     "metadata": {},
     "output_type": "display_data"
    },
    {
     "data": {
      "application/vnd.jupyter.widget-view+json": {
       "model_id": "04e9669a34fe4f7ebfef7bf6f5c2907e",
       "version_major": 2,
       "version_minor": 0
      },
      "text/plain": [
       "Downloading:   0%|          | 0.00/23.0 [00:00<?, ?B/s]"
      ]
     },
     "metadata": {},
     "output_type": "display_data"
    },
    {
     "data": {
      "application/vnd.jupyter.widget-view+json": {
       "model_id": "2996245aad3e43cf8166c39318ab4134",
       "version_major": 2,
       "version_minor": 0
      },
      "text/plain": [
       "Downloading:   0%|          | 0.00/173 [00:00<?, ?B/s]"
      ]
     },
     "metadata": {},
     "output_type": "display_data"
    }
   ],
   "source": [
    "qa_model=pipeline(\"question-answering\")"
   ]
  },
  {
   "cell_type": "code",
   "execution_count": 42,
   "id": "9f923682",
   "metadata": {},
   "outputs": [
    {
     "data": {
      "text/plain": [
       "{'score': 0.26663246750831604,\n",
       " 'start': 277,\n",
       " 'end': 290,\n",
       " 'answer': ' imprisonment'}"
      ]
     },
     "execution_count": 42,
     "metadata": {},
     "output_type": "execute_result"
    }
   ],
   "source": [
    "context=ipc[180]\n",
    "qa_model(question=question,context=context)"
   ]
  },
  {
   "cell_type": "code",
   "execution_count": null,
   "id": "ec65ea9e",
   "metadata": {},
   "outputs": [],
   "source": []
  }
 ],
 "metadata": {
  "kernelspec": {
   "display_name": "Python 3 (ipykernel)",
   "language": "python",
   "name": "python3"
  },
  "language_info": {
   "codemirror_mode": {
    "name": "ipython",
    "version": 3
   },
   "file_extension": ".py",
   "mimetype": "text/x-python",
   "name": "python",
   "nbconvert_exporter": "python",
   "pygments_lexer": "ipython3",
   "version": "3.10.9"
  }
 },
 "nbformat": 4,
 "nbformat_minor": 5
}
